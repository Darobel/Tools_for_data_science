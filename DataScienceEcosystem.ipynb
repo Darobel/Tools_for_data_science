{
 "cells": [
  {
   "cell_type": "markdown",
   "id": "1eb7ab20-4ee7-4bde-89f0-3ffdeed97317",
   "metadata": {},
   "source": [
    "# Data Science Tools and Ecosystem"
   ]
  },
  {
   "cell_type": "markdown",
   "id": "27f09bed-0ad3-4ffc-b9ea-9d1441bb6ce8",
   "metadata": {},
   "source": [
    "In this notebook, Data Science Tools and Ecosystem are summarised."
   ]
  },
  {
   "cell_type": "markdown",
   "id": "03a64768-738b-4049-9083-833190cc6789",
   "metadata": {},
   "source": [
    "Some of the popular languages that Data Scientists use are:\n",
    "<ol>\n",
    "    <li>Python</li>\n",
    "    <li>R</li>\n",
    "    <li>Scala</li>\n",
    "    <li>Julia</li>"
   ]
  },
  {
   "cell_type": "markdown",
   "id": "5444ed8a-3b1a-4fe4-8958-006401aa8733",
   "metadata": {},
   "source": [
    "Some of the commonly used libraries used by Data Scientists include:\n",
    "1. Numpy\n",
    "2. Matplotlib\n",
    "3. Scikit-learn\n",
    "4. Pandas"
   ]
  },
  {
   "cell_type": "markdown",
   "id": "09cf6296-8c5c-46d5-b3c6-61d266b2fa09",
   "metadata": {},
   "source": [
    "| Data Science Tools |\n",
    "| -------------|\n",
    "| Apache Spark |\n",
    "| Jupyter Notebook |\n",
    "| TensorFlow |\n",
    "| IBM Watson Studio |"
   ]
  },
  {
   "cell_type": "markdown",
   "id": "638ce013-0aa1-4fd7-b45b-4b865346e389",
   "metadata": {},
   "source": [
    "### Below are few examples of evaluating arithmetic expressions in Python."
   ]
  },
  {
   "cell_type": "code",
   "execution_count": 1,
   "id": "f73a9fc9-048b-41a5-acf8-3098dc33cad6",
   "metadata": {},
   "outputs": [
    {
     "data": {
      "text/plain": [
       "17"
      ]
     },
     "execution_count": 1,
     "metadata": {},
     "output_type": "execute_result"
    }
   ],
   "source": [
    "# This is a simple arithmetic expression to multiply then add integers:\n",
    "(3*4)+5"
   ]
  },
  {
   "cell_type": "code",
   "execution_count": 2,
   "id": "1f503a11-326d-489e-9974-6da0c241193c",
   "metadata": {},
   "outputs": [
    {
     "data": {
      "text/plain": [
       "3.3333333333333335"
      ]
     },
     "execution_count": 2,
     "metadata": {},
     "output_type": "execute_result"
    }
   ],
   "source": [
    "# This will convert 200 minutes to hours by dividing by 60:\n",
    "200 / 60"
   ]
  },
  {
   "cell_type": "markdown",
   "id": "bb0d2d79-35dd-4650-8a42-cf3c1a37a23f",
   "metadata": {},
   "source": [
    "**Objectives:**\n",
    "- Python\n",
    "- R\n",
    "- Julia\n",
    "- Scala"
   ]
  },
  {
   "cell_type": "markdown",
   "id": "eef6f8c6-7e0b-4fda-bfcc-b7713742a9cf",
   "metadata": {},
   "source": [
    "## Author:\n",
    "David Rosado Belza"
   ]
  },
  {
   "cell_type": "code",
   "execution_count": null,
   "id": "f704039f-00ae-4f00-9d92-9fac31c9105f",
   "metadata": {},
   "outputs": [],
   "source": []
  }
 ],
 "metadata": {
  "kernelspec": {
   "display_name": "Python 3 (ipykernel)",
   "language": "python",
   "name": "python3"
  },
  "language_info": {
   "codemirror_mode": {
    "name": "ipython",
    "version": 3
   },
   "file_extension": ".py",
   "mimetype": "text/x-python",
   "name": "python",
   "nbconvert_exporter": "python",
   "pygments_lexer": "ipython3",
   "version": "3.11.7"
  }
 },
 "nbformat": 4,
 "nbformat_minor": 5
}
